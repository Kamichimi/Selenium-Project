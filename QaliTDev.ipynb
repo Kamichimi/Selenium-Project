{
 "cells": [
  {
   "cell_type": "markdown",
   "id": "2dce2ce9-bc8e-46ad-b3b7-e8ab8c3a40e3",
   "metadata": {},
   "source": [
    "# R5.A.08 Qualite de developpement\n",
    "\n",
    "## Projet Test - Selenium Python\n",
    "\n",
    "Breville Alexandre Groupe Din - BUT3 Informatique"
   ]
  },
  {
   "cell_type": "markdown",
   "id": "f00ff2c8-8d88-44fe-bb6e-26951568cc7f",
   "metadata": {},
   "source": [
    "Le projet présenté ici est destiné à tester le site internet : https://ztrain-web.vercel.app/ à l'aide de Selenium, j'utiliserai la version Python pour ce projet, je ferais en sorte d'expliquer chaque étape dans les cellules de Markdown afin de faciliter la compréhension du code et mes explications."
   ]
  },
  {
   "cell_type": "markdown",
   "id": "e6b0204d-8aef-44c4-afaf-92deeb5bb3e5",
   "metadata": {},
   "source": [
    "## Étape 1 - Installation de Selenium"
   ]
  },
  {
   "cell_type": "code",
   "execution_count": 1,
   "id": "22467670-3d10-4c29-a4c5-b3829539d055",
   "metadata": {},
   "outputs": [
    {
     "name": "stdout",
     "output_type": "stream",
     "text": [
      "\n"
     ]
    }
   ],
   "source": [
    "!pip install --upgrade pip\n",
    "!pip install selenium\n",
    "print(\"ok\")"
   ]
  },
  {
   "cell_type": "markdown",
   "id": "7a28552b-08ae-4049-b6ed-a981adee75d7",
   "metadata": {},
   "source": [
    "## Étape 2 - Importation des services\n",
    "\n",
    "Afin de pouvoir faire nos tests, nous avons besoin de quelque chose qui puisse émuler une page Internet afin que toutes nos fonctions puissent être executer sans problèmes et pour cela nous avons besoin d'un webdriver, j'utiliserai **Firefox** en tant que webdriver pour ce projet."
   ]
  },
  {
   "cell_type": "code",
   "execution_count": 2,
   "id": "96de3084-49d2-46bb-9781-b6443a3d6bc8",
   "metadata": {},
   "outputs": [],
   "source": [
    "import time\n",
    "import json\n",
    "\n",
    "from selenium import webdriver \n",
    "from selenium.webdriver.common.keys import Keys\n",
    "from selenium.webdriver.common.by import By\n",
    "from selenium.webdriver.support.ui import WebDriverWait\n",
    "from selenium.webdriver.support import expected_conditions as EC\n",
    "from selenium.webdriver.common.action_chains import ActionChains"
   ]
  },
  {
   "cell_type": "markdown",
   "id": "0580af8c-49a3-49af-8289-3c85e5cf623a",
   "metadata": {},
   "source": [
    "## Étape 3 - Mettre le driver dans une variable et ouvrir la fenêtre\n",
    "\n",
    "Ce qu'on va faire c'est mettre notre **webdriver** dans une variable *browser* afin de pouvoir l'utiliser plus facilement ensuite grâce à la méthode `get()`, nous allons ouvrir la page."
   ]
  },
  {
   "cell_type": "code",
   "execution_count": 4,
   "id": "c69de09d-e4af-469d-9150-ded2bc055203",
   "metadata": {},
   "outputs": [],
   "source": [
    "browser = webdriver.Firefox()\n",
    "browser.get(\"https://ztrain-web.vercel.app/\")\n",
    "time.sleep(1)\n",
    "browser.maximize_window()"
   ]
  },
  {
   "cell_type": "markdown",
   "id": "00181952-178c-4709-b274-dc5804138e93",
   "metadata": {},
   "source": [
    "Après avoir réussi à installer et importer selenium on peut désormais procéder à quelques tests, on va d'abord faire des tests simples pour ensuite se dirigier sur des tests plus complexes.\n",
    "\n",
    "_ _ _ _ _ _ _ _ _ _ _ _ _ _ _ _ _ _ _ _ _ _ _ _ _ _ _ _ _ _ _ _ _ _ _ _ _ _ _ _ _ _ _ _ _ _ _ _ _ _ _ _ _ _ _ _ _ _ _ _ _ _ _ _ _ _ _ _ _ _ _ _ _ _ _ _ _ _ _ _ "
   ]
  },
  {
   "cell_type": "markdown",
   "id": "635dec09-8e78-421e-9394-59b875695162",
   "metadata": {},
   "source": [
    "## Étape 4 - Rechercher des éléments\n",
    "\n",
    "Nos 2 premiers tests vont être de vérifier si lorsque l'on cherche des éléments ils apparaissent ou non. Nous avons 2 tableaux `True_tab` et `False_tab`, ils contiennent des éléments qui sont dans le magasins et d'autres qui ne le sont pas. "
   ]
  },
  {
   "cell_type": "code",
   "execution_count": 6,
   "id": "694bd434-da0c-4e02-84a2-6ecd6d161555",
   "metadata": {},
   "outputs": [
    {
     "name": "stdout",
     "output_type": "stream",
     "text": [
      "La recherche pour T-shirt a réussi.\n",
      "La recherche pour Chaussures a réussi.\n",
      "La recherche pour PC Portable a réussi.\n",
      "Manteau n'est pas dans le recherche proposé\n",
      "Test n'est pas dans le recherche proposé\n",
      "123456 n'est pas dans le recherche proposé\n"
     ]
    }
   ],
   "source": [
    "search = browser.find_element(By.ID,\"style_input_navbar_search__Scaxy\")\n",
    "\n",
    "True_tab = [\"T-shirt\",\"Chaussures\",\"PC Portable\"]\n",
    "False_tab = [\"Manteau\",\"Test\",\"123456\"]\n",
    "\n",
    "for i in range(len(True_tab)):\n",
    "    search.clear()\n",
    "    search.send_keys(True_tab[i])\n",
    "\n",
    "    WebDriverWait(browser, 10).until(EC.presence_of_element_located((By.XPATH, '//*[@id=\"style_popular_product_wrapper__z6J0h\"]')))\n",
    "\n",
    "    results = browser.find_elements(By.XPATH, '//*[@id=\"style_popular_product_wrapper__z6J0h\"]')\n",
    "\n",
    "    try:\n",
    "        assert any(True_tab[i].lower() in result.text.lower() for result in results)\n",
    "        print(f\"La recherche pour {True_tab[i]} a réussi.\")\n",
    "    except AssertionError as e:\n",
    "        print(f\"Échec de la recherche pour {True_tab[i]}: {e}\")\n",
    "    time.sleep(2)\n",
    "\n",
    "for i in range(len(False_tab)):\n",
    "    search.clear()\n",
    "    search.send_keys(False_tab[i])\n",
    "\n",
    "    WebDriverWait(browser, 10).until(EC.presence_of_element_located((By.XPATH, '//*[@id=\"style_popular_product_wrapper__z6J0h\"]')))\n",
    "\n",
    "    empty_result = browser.find_element(By.XPATH, '//*[@id=\"style_empty_result___y6P_\"]')\n",
    "\n",
    "    try:\n",
    "        assert empty_result.is_displayed()\n",
    "        print(f\"{False_tab[i]} n'est pas dans le recherche proposé\")\n",
    "    except AssertionError as e:\n",
    "        print(f\"Échec de la recherche pour {False_tab[i]}: {e}\")\n",
    "    time.sleep(2)"
   ]
  },
  {
   "cell_type": "markdown",
   "id": "5f6f0f4e-96c7-47a6-9f11-aad35cc8b557",
   "metadata": {},
   "source": [
    "## Étape 5 - S'inscrire\n",
    "\n",
    "Comme autre test, je vais essayer de m'inscrire en ayant au préalable renseigner les informations dans un JSON"
   ]
  },
  {
   "cell_type": "code",
   "execution_count": 3,
   "id": "ecce2c9d-4ec8-4a20-9d84-70eb522fd07e",
   "metadata": {},
   "outputs": [
    {
     "name": "stdout",
     "output_type": "stream",
     "text": [
      "\n"
     ]
    }
   ],
   "source": [
    "connecting = browser.find_element(By.ID,'style_avatar_wrapper__pEGIQ')\n",
    "connecting.click()\n",
    "\n",
    "inscription_button = browser.find_element(By.XPATH,'//*[@id=\"mui-p-4847-T-2\"]')\n",
    "inscription_button.click()\n",
    "\n",
    "email = browser.find_element(By.XPATH,'//*[@id=\"email_register\"]')\n",
    "password = browser.find_element(By.XPATH,'//*[@id=\"password_register\"]')\n",
    "confirm_password = browser.find_element(By.XPATH,'//*[@id=\"confirm_password_register\"]')\n",
    "validation_button = browser.find_element(By.XPATH,'//*[@id=\"btn_register\"]')\n",
    "\n",
    "with open(\"users.json\", \"r\") as json_file:\n",
    "    loaded_users = json.load(json_file)\n",
    "\n",
    "for user in loaded_users:\n",
    "    email.clear()\n",
    "    password.clear()\n",
    "    confirm_password.clear()\n",
    "\n",
    "    email_input = user[\"email\"]\n",
    "    password_input = user[\"password\"]\n",
    "\n",
    "    email.send_keys(email_input)\n",
    "    password.send_keys(password_input)\n",
    "    confirm_password.send_keys(password_input)\n",
    "\n",
    "    try:\n",
    "        validation_button.click()\n",
    "        error_message = browser.find_element(By.XPATH, '/html/body/div[2]/div/div[2]/div/div[2]/div[1]/div/main/div[2]/div[4]/div/div/form/p')\n",
    "        assert error_message.is_displayed()\n",
    "        print(f\"Erreur détectée pour l'utilisateur avec l'email {email_input} et le mot de passe {password_input}\")\n",
    "    except Exception :\n",
    "        print(f\"Aucune erreur détectée pour l'utilisateur avec l'email {email_input} et le mot de passe {password_input}\\n le compte s'est connecté\")\n",
    "\n",
    "    time.sleep(5)"
   ]
  },
  {
   "cell_type": "markdown",
   "id": "dfb210c4-6a0e-405f-8944-735fc8841b09",
   "metadata": {},
   "source": [
    "## Étape 6 - Deconnexion \n",
    "\n",
    "Ce test permet de voir si un compte peut bien se déconnecter et que le bon logo apparaît."
   ]
  },
  {
   "cell_type": "code",
   "execution_count": 14,
   "id": "50b6e132-b4ab-4632-ac72-b3ea6a44f9a4",
   "metadata": {},
   "outputs": [],
   "source": [
    "account = browser.find_element(By.XPATH,'/html/body/div[1]/div/nav/div[4]/p')\n",
    "account.click()\n",
    "\n",
    "WebDriverWait(browser, 10).until(EC.presence_of_element_located((By.XPATH, '/html/body/div[3]/div[3]/ul')))\n",
    "\n",
    "logout = browser.find_element(By.XPATH,'//*[@id=\"logout\"]')\n",
    "logout.click()\n",
    "\n",
    "assert connecting.is_displayed()"
   ]
  },
  {
   "cell_type": "markdown",
   "id": "39be025f-6ee6-4e78-a245-a6db1cbacbc0",
   "metadata": {},
   "source": [
    "## Étape 7 - Connexion \n",
    "\n",
    "À l'aide du même JSON que l'on a utilisé pour l'inscription, nous allons essayé de nous connecter et refaire les même tests que ceux effectués précedemment"
   ]
  },
  {
   "cell_type": "code",
   "execution_count": 10,
   "id": "2f12bbdb-27f1-4e2e-999c-25d9e72d4c00",
   "metadata": {},
   "outputs": [
    {
     "name": "stdout",
     "output_type": "stream",
     "text": [
      "Message: Unable to locate element: /html/body/div[2]/div/div[2]/div/div[2]/div[1]/div/main/div[2]/div[4]/div/div/form/p; For documentation on this error, please visit: https://www.selenium.dev/documentation/webdriver/troubleshooting/errors#no-such-element-exception\n",
      "Stacktrace:\n",
      "RemoteError@chrome://remote/content/shared/RemoteError.sys.mjs:8:8\n",
      "WebDriverError@chrome://remote/content/shared/webdriver/Errors.sys.mjs:189:5\n",
      "NoSuchElementError@chrome://remote/content/shared/webdriver/Errors.sys.mjs:507:5\n",
      "dom.find/</<@chrome://remote/content/shared/DOM.sys.mjs:132:16\n",
      "\n",
      "Aucune erreur détectée pour l'utilisateur avec l'email user1 et le mot de passe password1\n",
      " le compte s'est connecté\n",
      "Message: Unable to locate element: /html/body/div[2]/div/div[2]/div/div[2]/div[1]/div/main/div[2]/div[4]/div/div/form/p; For documentation on this error, please visit: https://www.selenium.dev/documentation/webdriver/troubleshooting/errors#no-such-element-exception\n",
      "Stacktrace:\n",
      "RemoteError@chrome://remote/content/shared/RemoteError.sys.mjs:8:8\n",
      "WebDriverError@chrome://remote/content/shared/webdriver/Errors.sys.mjs:189:5\n",
      "NoSuchElementError@chrome://remote/content/shared/webdriver/Errors.sys.mjs:507:5\n",
      "dom.find/</<@chrome://remote/content/shared/DOM.sys.mjs:132:16\n",
      "\n",
      "Aucune erreur détectée pour l'utilisateur avec l'email  et le mot de passe password2\n",
      " le compte s'est connecté\n",
      "Message: Unable to locate element: /html/body/div[2]/div/div[2]/div/div[2]/div[1]/div/main/div[2]/div[4]/div/div/form/p; For documentation on this error, please visit: https://www.selenium.dev/documentation/webdriver/troubleshooting/errors#no-such-element-exception\n",
      "Stacktrace:\n",
      "RemoteError@chrome://remote/content/shared/RemoteError.sys.mjs:8:8\n",
      "WebDriverError@chrome://remote/content/shared/webdriver/Errors.sys.mjs:189:5\n",
      "NoSuchElementError@chrome://remote/content/shared/webdriver/Errors.sys.mjs:507:5\n",
      "dom.find/</<@chrome://remote/content/shared/DOM.sys.mjs:132:16\n",
      "\n",
      "Aucune erreur détectée pour l'utilisateur avec l'email user3 et le mot de passe \n",
      " le compte s'est connecté\n",
      "Message: Unable to locate element: /html/body/div[2]/div/div[2]/div/div[2]/div[1]/div/main/div[2]/div[4]/div/div/form/p; For documentation on this error, please visit: https://www.selenium.dev/documentation/webdriver/troubleshooting/errors#no-such-element-exception\n",
      "Stacktrace:\n",
      "RemoteError@chrome://remote/content/shared/RemoteError.sys.mjs:8:8\n",
      "WebDriverError@chrome://remote/content/shared/webdriver/Errors.sys.mjs:189:5\n",
      "NoSuchElementError@chrome://remote/content/shared/webdriver/Errors.sys.mjs:507:5\n",
      "dom.find/</<@chrome://remote/content/shared/DOM.sys.mjs:132:16\n",
      "\n",
      "Aucune erreur détectée pour l'utilisateur avec l'email kerdejekna@gufum.com et le mot de passe 1234abcd\n",
      " le compte s'est connecté\n"
     ]
    }
   ],
   "source": [
    "connecting = browser.find_element(By.ID,'style_avatar_wrapper__pEGIQ')\n",
    "connecting.click()\n",
    "\n",
    "#connection_button = browser.find_element(By.XPATH,'//*[@id=\"mui-p-4847-T-1\"]')\n",
    "#connection_button.click()\n",
    "\n",
    "email = browser.find_element(By.XPATH,'//*[@id=\"email_login\"]')\n",
    "password = browser.find_element(By.XPATH,'//*[@id=\"password_login\"]')\n",
    "validation_button = browser.find_element(By.XPATH,'//*[@id=\"btn_login\"]')\n",
    "\n",
    "with open(\"users.json\", \"r\") as json_file:\n",
    "    loaded_users = json.load(json_file)\n",
    "\n",
    "for user in loaded_users:\n",
    "    email.clear()\n",
    "    password.clear()\n",
    "\n",
    "    email_input = user[\"email\"]\n",
    "    password_input = user[\"password\"]\n",
    "\n",
    "    email.send_keys(email_input)\n",
    "    password.send_keys(password_input)\n",
    "\n",
    "    try:\n",
    "        validation_button.click()\n",
    "        error_message = browser.find_element(By.XPATH, '/html/body/div[2]/div/div[2]/div/div[2]/div[1]/div/main/div[2]/div[4]/div/div/form/p')\n",
    "        assert error_message.is_displayed()\n",
    "        print(f\"Erreur détectée pour l'utilisateur avec l'email {email_input} et le mot de passe {password_input}\")\n",
    "    except Exception as e:\n",
    "        print(e)\n",
    "        print(f\"Aucune erreur détectée pour l'utilisateur avec l'email {email_input} et le mot de passe {password_input}\\n le compte s'est connecté\")\n",
    "\n",
    "    time.sleep(5)"
   ]
  },
  {
   "cell_type": "markdown",
   "id": "901b7fea-4994-46f4-b0b1-fcb4aa773fd7",
   "metadata": {},
   "source": [
    "## Étape 8 - Mettre des éléments dans un panier\n",
    "\n",
    "Cette fois-ci, on va mettre un élément dans un panier de 2 manières différentes et observer si cela est correct."
   ]
  },
  {
   "cell_type": "code",
   "execution_count": 10,
   "id": "4be29dd9-6185-432f-ac35-12214001fb02",
   "metadata": {},
   "outputs": [],
   "source": [
    "lamp = browser.find_element(By.XPATH,'/html/body/div[1]/div/main/div/div/div[1]/div[1]/img')\n",
    "lamp.click()\n",
    "\n",
    "add_cart = browser.find_element(By.XPATH,'//*[@id=\"style_btn_add_cart__gTXM7\"]')\n",
    "add_cart.click()\n",
    "\n",
    "time.sleep(1)\n",
    "\n",
    "product_pop_up = browser.find_element(By.XPATH, '/html/body/div[2]/div')\n",
    "assert product_pop_up.is_displayed()"
   ]
  },
  {
   "cell_type": "code",
   "execution_count": 4,
   "id": "8b4fe5df-24b8-4d0a-bdd8-03a3a694dd98",
   "metadata": {},
   "outputs": [],
   "source": [
    "lamp = browser.find_element(By.XPATH,'/html/body/div[1]/div/main/div/div/div[1]/div[1]/img')\n",
    "ActionChains(browser).move_to_element(lamp).perform()\n",
    "lamp_button = browser.find_element(By.XPATH,'/html/body/div[1]/div/main/div/div/div[1]/div[2]/button')\n",
    "\n",
    "time.sleep(1)\n",
    "assert lamp_button.is_displayed()\n",
    "lamp_button.click()\n",
    "time.sleep(1)\n",
    "\n",
    "product_pop_up = browser.find_element(By.XPATH, '/html/body/div[2]/div')\n",
    "assert product_pop_up.is_displayed()"
   ]
  },
  {
   "cell_type": "markdown",
   "id": "1576c8b2-bfd1-4a35-bffc-e218a6e0bdbd",
   "metadata": {},
   "source": [
    "## Étape 9 - Acheter le panier\n",
    "\n",
    "Quand on achéte un panier, si nous n'avons pas de compte, le site nous invite à nous connecter et dans le cas contraire on peut renseigner ses informations.\n",
    "\n",
    "Les informations sont dans un JSON."
   ]
  },
  {
   "cell_type": "code",
   "execution_count": 12,
   "id": "cf691604-3601-46fe-ab13-48c5ff149624",
   "metadata": {},
   "outputs": [
    {
     "name": "stdout",
     "output_type": "stream",
     "text": [
      "\n"
     ]
    }
   ],
   "source": [
    "cart = browser.find_element(By.XPATH,'//*[@id=\"style_content_cart_wrapper__mqNbf\"]')\n",
    "cart.click()\n",
    "\n",
    "command_button =  browser.find_element(By.XPATH,'//*[@id=\"style_btn_cart__zrT9Q\"]')\n",
    "command_button.click()\n",
    "time.sleep(1)\n",
    "\n",
    "connection_pop_up = browser.find_element(By.XPATH,'/html/body/div[4]/div/div[2]/div/div[2]')\n",
    "assert connection_pop_up.is_displayed()"
   ]
  },
  {
   "cell_type": "code",
   "execution_count": 24,
   "id": "d51ec279-70ad-403a-8267-9d17df4611c0",
   "metadata": {},
   "outputs": [],
   "source": [
    "with open(\"credit_card.json\", \"r\") as json_file:\n",
    "    data = json.load(json_file)\n",
    "\n",
    "card = data[0]\n",
    "\n",
    "cart.click()\n",
    "command_button.click()\n",
    "time.sleep(1)\n",
    "\n",
    "delivery_input = browser.find_element(By.XPATH,'/html/body/div[1]/div/div[1]/main/form/div[1]/div[1]/input')\n",
    "\n",
    "card_number = browser.find_element(By.XPATH,'//*[@id=\"card-number\"]')\n",
    "expire_date = browser.find_element(By.XPATH,'//*[@id=\"card-expiry\"]')\n",
    "cvc = browser.find_element(By.XPATH,'//*[@id=\"cvc\"]')\n",
    "\n",
    "adress = browser.find_element(By.XPATH,'//*[@id=\"style_input_address__CrN2C\"]')\n",
    "confirm_button = browser.find_element(By.XPATH,'//*[@id=\"style_btnSubmit__sn_sg\"]')\n",
    "\n",
    "card_number_input = card[\"CardNumber\"]\n",
    "expire_date_input = card[\"Expiry\"]\n",
    "cvc_input = str(card[\"CVV\"])\n",
    "adress_input = card[\"Address\"]\n",
    "\n",
    "delivery_input.click()\n",
    "\n",
    "card_number.clear()\n",
    "expire_date.clear()\n",
    "cvc.clear()\n",
    "adress.clear()\n",
    "\n",
    "card_number.send_keys(card_number_input)\n",
    "expire_date.send_keys(expire_date_input)\n",
    "cvc.send_keys(cvc_input)\n",
    "adress.send_keys(adress_input)\n",
    "\n",
    "time.sleep(2)\n",
    "\n",
    "confirm_button.click()"
   ]
  },
  {
   "cell_type": "markdown",
   "id": "1291e342-245f-4f52-96ea-9f3df94929c8",
   "metadata": {},
   "source": [
    "## Étape 10 Modifier les informations d'un compte"
   ]
  },
  {
   "cell_type": "code",
   "execution_count": 9,
   "id": "b9abf971-a391-42c5-b431-ec68539c2d4b",
   "metadata": {},
   "outputs": [],
   "source": [
    "account = browser.find_element(By.XPATH,'/html/body/div[1]/div/nav/div[4]/p')\n",
    "account.click()\n",
    "\n",
    "my_account = browser.find_element(By.XPATH,'/html/body/div[2]/div[3]/ul/li[3]/span[2]/a')\n",
    "my_account.click()\n",
    "time.sleep(1)\n",
    "\n",
    "nom = browser.find_element(By.XPATH,'//*[@id=\"lastName\"]')\n",
    "prenom = browser.find_element(By.XPATH,'//*[@id=\"firstName\"]')\n",
    "adress = browser.find_element(By.XPATH,'//*[@id=\"address\"]')\n",
    "telephone = browser.find_element(By.XPATH,'//*[@id=\"phone\"]')\n",
    "adresse_facture = browser.find_element(By.XPATH,'//*[@id=\"addressFacturation\"]')\n",
    "adresse_livraison = browser.find_element(By.XPATH,'//*[@id=\"addressLivraison\"]')\n",
    "update = browser.find_element(By.XPATH,'/html/body/div/div/div/div/div[2]/div/div[2]/div[1]/div/body/div/div/form/button')\n",
    "\n",
    "with open(\"update_profil.json\", \"r\") as json_file:\n",
    "    profil = json.load(json_file)\n",
    "\n",
    "for updates in profil:\n",
    "    \n",
    "    nom.clear()\n",
    "    prenom.clear()\n",
    "    adress.clear()\n",
    "    telephone.clear()\n",
    "    adresse_facture.clear()\n",
    "    adresse_livraison.clear()\n",
    "\n",
    "    nom_input = updates[\"Nom\"]\n",
    "    prenom_input = updates[\"Prenom\"]\n",
    "    adress_input = updates[\"Adresse\"]\n",
    "    telephone_input = updates[\"Telephone\"]\n",
    "    facturation = updates[\"Facture\"]\n",
    "    livraison = updates[\"Livraison\"]\n",
    "\n",
    "    nom.send_keys(nom_input)\n",
    "    prenom.send_keys(prenom_input)\n",
    "    adress.send_keys(adress_input)\n",
    "    telephone.send_keys(telephone_input)\n",
    "    adresse_facture.send_keys(facturation)\n",
    "    adresse_livraison.send_keys(livraison)\n",
    "    time.sleep(2)\n",
    "\n",
    "    try:\n",
    "        update.click()\n",
    "        pop_up = browser.find_element(By.XPATH,'/html/body/div[2]')\n",
    "        assert pop_up.is_displayed(), f\"Le profil a bien été changé\"\n",
    "        time.sleep(1)\n",
    "\n",
    "    except Exception as e :\n",
    "        print(e)\n"
   ]
  },
  {
   "cell_type": "markdown",
   "id": "06dd10d7-e737-4c6e-8b72-d1044e8073a6",
   "metadata": {},
   "source": [
    "## Étape 11 - Réinitialiser le mot de passe"
   ]
  },
  {
   "cell_type": "code",
   "execution_count": 10,
   "id": "b46d034f-544c-4fcc-9116-fb1fdead95c7",
   "metadata": {},
   "outputs": [
    {
     "ename": "IndexError",
     "evalue": "list index out of range",
     "output_type": "error",
     "traceback": [
      "\u001b[1;31m---------------------------------------------------------------------------\u001b[0m",
      "\u001b[1;31mIndexError\u001b[0m                                Traceback (most recent call last)",
      "Cell \u001b[1;32mIn[10], line 17\u001b[0m\n\u001b[0;32m     14\u001b[0m \u001b[38;5;28;01mwith\u001b[39;00m \u001b[38;5;28mopen\u001b[39m(\u001b[38;5;124m\"\u001b[39m\u001b[38;5;124musers.json\u001b[39m\u001b[38;5;124m\"\u001b[39m, \u001b[38;5;124m\"\u001b[39m\u001b[38;5;124mr\u001b[39m\u001b[38;5;124m\"\u001b[39m) \u001b[38;5;28;01mas\u001b[39;00m json_file:\n\u001b[0;32m     15\u001b[0m     loaded_users \u001b[38;5;241m=\u001b[39m json\u001b[38;5;241m.\u001b[39mload(json_file)\n\u001b[1;32m---> 17\u001b[0m account \u001b[38;5;241m=\u001b[39m \u001b[43mloaded_users\u001b[49m\u001b[43m[\u001b[49m\u001b[38;5;241;43m3\u001b[39;49m\u001b[43m]\u001b[49m\n\u001b[0;32m     19\u001b[0m email_input \u001b[38;5;241m=\u001b[39m account[\u001b[38;5;124m\"\u001b[39m\u001b[38;5;124memail\u001b[39m\u001b[38;5;124m\"\u001b[39m]\n\u001b[0;32m     20\u001b[0m new_pswd \u001b[38;5;241m=\u001b[39m \u001b[38;5;124m\"\u001b[39m\u001b[38;5;124m4231abcd\u001b[39m\u001b[38;5;124m\"\u001b[39m\n",
      "\u001b[1;31mIndexError\u001b[0m: list index out of range"
     ]
    }
   ],
   "source": [
    "connecting = browser.find_element(By.ID,'style_avatar_wrapper__pEGIQ')\n",
    "connecting.click()\n",
    "\n",
    "connect = browser.find_element(By.ID,'mui-p-43609-T-1')\n",
    "connect.click()\n",
    "\n",
    "forgor = browser.find_element(By.XPATH,'/html/body/div[2]/div/div[2]/div/div[2]/div[1]/div/main/div[2]/div[3]/div/div/form/a')\n",
    "forgor.click()\n",
    "\n",
    "forgotten_email_input = browser.find_element(By.XPATH,'//*[@id=\"email_reset_pass\"]')\n",
    "new_pswd_input = browser.find_element(By.XPATH,'//*[@id=\"reset_password\"]')\n",
    "reset = browser.find_element(By.XPATH,'//*[@id=\"btn_reset_password\"]')\n",
    "\n",
    "with open(\"users.json\", \"r\") as json_file:\n",
    "    loaded_users = json.load(json_file)\n",
    "\n",
    "account = loaded_users[2]\n",
    "\n",
    "email_input = account[\"email\"]\n",
    "new_pswd = \"4231abcd\"\n",
    "\n",
    "try : \n",
    "    forgotten_email_input.clear()\n",
    "    new_pswd_input.clear()\n",
    "\n",
    "    forgotten_email_input.send_keys(email_input)\n",
    "    new_pswd_input.send_keys(new_pswd)\n",
    "    reset.click()\n",
    "    \n",
    "    time.sleep(3)\n",
    "\n",
    "    nouvel_url = browser.current_url\n",
    "\n",
    "    page_attendue_url = \"https://ztrain-web.vercel.app/auth/login\"\n",
    "    assert nouvel_url == page_attendue_url, f\"L'URL de la nouvelle page est {nouvel_url}, mais on s'attend à {page_attendue_url}\"\n",
    "\n",
    "except Exception as e:\n",
    "    print(e)\n"
   ]
  },
  {
   "cell_type": "code",
   "execution_count": null,
   "id": "44c0bb55-8be7-4a95-b8b3-026ae95e3ad0",
   "metadata": {},
   "outputs": [],
   "source": []
  }
 ],
 "metadata": {
  "kernelspec": {
   "display_name": "Python 3 (ipykernel)",
   "language": "python",
   "name": "python3"
  },
  "language_info": {
   "codemirror_mode": {
    "name": "ipython",
    "version": 3
   },
   "file_extension": ".py",
   "mimetype": "text/x-python",
   "name": "python",
   "nbconvert_exporter": "python",
   "pygments_lexer": "ipython3",
   "version": "3.11.3"
  }
 },
 "nbformat": 4,
 "nbformat_minor": 5
}
